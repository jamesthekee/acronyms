{
 "cells": [
  {
   "cell_type": "code",
   "execution_count": 1,
   "metadata": {},
   "outputs": [
    {
     "name": "stdout",
     "output_type": "stream",
     "text": [
      "[0.11496008 0.03309375 0.06283095 0.03468293 0.0747514  0.02670963\n",
      " 0.02488444 0.04748531 0.02877411 0.08992809 0.03774962 0.07547558\n",
      " 0.08621922 0.02522859 0.02882965 0.01771189 0.00054666 0.05018882\n",
      " 0.06493722 0.03924377 0.0013474  0.00536945 0.01096349 0.00071069\n",
      " 0.0041952  0.01318207]\n"
     ]
    }
   ],
   "source": [
    "import pandas\n",
    "import numpy\n",
    "from collections import Counter\n",
    "\n",
    "\n",
    "def get_freq_dist(input_df, year):\n",
    "    col_name = f\"{year} Count\"\n",
    "    freq = [0 for _ in range(26)]\n",
    "    df = input_df[[\"Name\", col_name]]\n",
    "\n",
    "    letter_to_index = {chr(x+65):x for x in range(26)}\n",
    "\n",
    "    for ind in df.index:\n",
    "        try:\n",
    "            letter = df[\"Name\"][ind][0]\n",
    "            index = letter_to_index[letter]\n",
    "\n",
    "            if df[col_name][ind] != \"[x]\":\n",
    "                freq[index]+=int(df[col_name][ind].replace(',', ''))\n",
    "        except TypeError:\n",
    "            print(\"ERROR: \", df[\"Name\"][ind])\n",
    "\n",
    "    return freq\n",
    "\n",
    "\n",
    "def get_prob_dist(input_df, year):\n",
    "    freq = get_freq_dist(input_df, year)\n",
    "    count = sum(freq)\n",
    "    prob_dist = [x/count for x in freq]\n",
    "    return prob_dist, count\n",
    "\n",
    "\n",
    "def multi_year_prob_data(input_df, years):\n",
    "    freq = [0 for _ in range(26)]\n",
    "    for year in years:\n",
    "        cur_freq = get_freq_dist(input_df, year)\n",
    "        for i in range(26):\n",
    "            freq[i] += cur_freq[i]\n",
    "    count = sum(freq)\n",
    "    prob_dist = [x/count for x in freq]\n",
    "    return prob_dist, count\n",
    "\n",
    "def print_dist(dist):\n",
    "    s = \"[\" + \" \".join(f\"{i:.3f}\" for i in dist) + \"]\"\n",
    "    print(s)\n",
    "    \n",
    "    \n",
    "girlnames = pandas.read_csv(\"f-babynames1996to2021.csv\")\n",
    "boynames = pandas.read_csv(\"m-babynames1996to2021.csv\")\n",
    "\n",
    "prob_distb, _ = multi_year_prob_data(boynames, range(1996,2022))\n",
    "prob_distg, _ = multi_year_prob_data(girlnames, range(1996,2022))\n",
    "\n",
    "prob_distb = numpy.array(prob_distb)\n",
    "prob_distg = numpy.array(prob_distg)\n",
    "\n",
    "total_dist = (prob_distb + prob_distg)/2\n",
    "\n",
    "print(total_dist)"
   ]
  },
  {
   "cell_type": "code",
   "execution_count": 42,
   "metadata": {},
   "outputs": [
    {
     "name": "stdout",
     "output_type": "stream",
     "text": [
      "('a', 'm', 'e', 'r', 'd', 'b', 'u')\n",
      "(0.11496007733872045, 0.08621921732623261, 0.07475139833647483, 0.05018881507866309, 0.034682927937531444, 0.033093753553561006, 0.0013474028563640237)\n"
     ]
    }
   ],
   "source": [
    "WORD = 'bermuda'\n",
    "letter_to_index = {chr(x+97):x for x in range(26)}\n",
    "\n",
    "indexed = [(letter, total_dist[letter_to_index[letter]]) for letter in WORD]\n",
    "indexed = sorted(indexed, key=lambda x: x[1], reverse=True)\n",
    "inletters, inprobs = zip(*indexed)\n",
    "\n",
    "print(inletter)\n",
    "print(inprobs)\n",
    "\n"
   ]
  },
  {
   "cell_type": "code",
   "execution_count": 72,
   "metadata": {},
   "outputs": [
    {
     "name": "stdout",
     "output_type": "stream",
     "text": [
      "[0, 1, 1] 2\n",
      "[0, 0, 1] 1\n",
      "[1, 0, 1] 2\n",
      "[0, 0, 1] 1\n",
      "[0, 0, 0] 0\n",
      "[0, 1, 1] 2\n",
      "[0, 1, 0] 1\n",
      "[1, 1, 0] 2\n",
      "[0, 1, 0] 1\n",
      "[0, 0, 0] 0\n",
      "[1, 0, 1] 2\n",
      "[1, 0, 0] 1\n",
      "[1, 1, 0] 2\n",
      "[1, 0, 0] 1\n",
      "[0, 0, 0] 0\n"
     ]
    }
   ],
   "source": [
    "def test(state, depth):\n",
    "    if all(x==1 for x in state):\n",
    "        return\n",
    "    #testcopy = state.copy()\n",
    "    for i in reversed(range(len(state))):\n",
    "        if state[i] == 0:\n",
    "            state[i]=1\n",
    "            test(state, depth+1)\n",
    "            state[i]=0\n",
    "            print(state, depth)\n",
    "            \n",
    "\n",
    "\n",
    "test([0,0,0], 0)\n"
   ]
  },
  {
   "cell_type": "code",
   "execution_count": 87,
   "metadata": {},
   "outputs": [
    {
     "name": "stdout",
     "output_type": "stream",
     "text": [
      "    1 2.898e-07\n",
      "    2 1.525e-05\n",
      "    3 0.000155\n",
      "    4 0.0007026\n",
      "    5 0.002063\n",
      "    6 0.004632\n",
      "    7 0.008683\n",
      "    8 0.01432\n",
      "    9 0.02149\n",
      "   10 0.03003\n",
      "   15 0.08467\n",
      "   20 0.142\n",
      "   30 0.2367\n",
      "   40 0.3114\n",
      "   50 0.3752\n",
      "  100 0.6109\n",
      "  500 0.9911\n"
     ]
    }
   ],
   "source": [
    "def recursive(state, k, fld, cur=1):\n",
    "    if all(x==1 for x in state):\n",
    "        return cur\n",
    "    condition_multiplier = 1\n",
    "    total = 0\n",
    "    \n",
    "    for i in reversed(range(len(state))):\n",
    "        if state[i] == 0:\n",
    "            branch_prob = 1-pow(1-fld[i], k)\n",
    "            full_thing = cur*branch_prob*condition_multiplier\n",
    "\n",
    "            state[i]=1\n",
    "            total += recursive(state, k, fld, full_thing)\n",
    "            state[i]=0\n",
    "            \n",
    "            if k > 1:\n",
    "                condition_multiplier *= (1-branch_prob)\n",
    "    \n",
    "    return total\n",
    "\n",
    "values = list(range(1,11))+[15, 20, 30, 40, 50, 100, 500]\n",
    "for k in values:\n",
    "    answer = recursive([0 for _ in WORD], k, inprobs)\n",
    "    print(f\"{k: 5d} {answer:.4g}\")"
   ]
  }
 ],
 "metadata": {
  "kernelspec": {
   "display_name": "Python 3",
   "language": "python",
   "name": "python3"
  },
  "language_info": {
   "codemirror_mode": {
    "name": "ipython",
    "version": 3
   },
   "file_extension": ".py",
   "mimetype": "text/x-python",
   "name": "python",
   "nbconvert_exporter": "python",
   "pygments_lexer": "ipython3",
   "version": "3.10.9"
  },
  "orig_nbformat": 4
 },
 "nbformat": 4,
 "nbformat_minor": 2
}
